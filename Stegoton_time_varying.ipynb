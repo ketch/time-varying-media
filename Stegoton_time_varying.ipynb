{
 "cells": [
  {
   "cell_type": "code",
   "execution_count": null,
   "id": "828b6a80-e779-4c86-a8c0-382620c0dcc4",
   "metadata": {},
   "outputs": [],
   "source": [
    "from stegoton import *\n",
    "import matplotlib.pyplot as plt"
   ]
  },
  {
   "cell_type": "code",
   "execution_count": null,
   "id": "588a78e1-2f55-4ba0-893f-c179706ea90c",
   "metadata": {},
   "outputs": [],
   "source": [
    "claw = setup(ic=2,tfinal=20,num_output_times=100,amp=0.3,solver_type=\"sharpclaw\")\n",
    "claw.keep_copy = True\n",
    "claw.solver.cfl_max = 1.5\n",
    "claw.solver.cfl_desired = 1.45\n",
    "claw.run()"
   ]
  },
  {
   "cell_type": "code",
   "execution_count": null,
   "id": "f8024f78-fe09-4f30-9db5-426bfcc48e8b",
   "metadata": {},
   "outputs": [],
   "source": [
    "def stress(frame):\n",
    "    \"\"\"Compute stress from strain and momentum\"\"\"\n",
    "    from clawpack.riemann.nonlinear_elasticity_1D_py import sigma \n",
    "    aux = frame.aux\n",
    "    epsilon = frame.q[0,:]\n",
    "    stress = sigma(frame.q,aux,{'stress_relation':'exponential'})\n",
    "    return stress\n",
    "\n",
    "i=20\n",
    "\n",
    "q = claw.frames[i].q\n",
    "xc = claw.frames[0].grid.x.centers\n",
    "rho = claw.frames[i].aux[0,:]\n",
    "u = q[1,:]/rho\n",
    "sigma = stress(claw.frames[i])\n",
    "plt.plot(xc,sigma)\n",
    "#plt.xlim(50,100);"
   ]
  },
  {
   "cell_type": "code",
   "execution_count": null,
   "id": "61a64687-1999-4610-a300-16b82ec7dffc",
   "metadata": {},
   "outputs": [],
   "source": [
    "import matplotlib\n",
    "from matplotlib import animation\n",
    "matplotlib.rcParams['animation.embed_limit'] = 2**128\n",
    "from IPython.display import HTML\n",
    "\n",
    "fig, ax = plt.subplots(figsize=[12,8], nrows=2, ncols=1, sharex=True)\n",
    "fig.subplots_adjust(hspace=0)\n",
    "\n",
    "#fig = plt.figure(figsize=[10,6])\n",
    "#ax = plt.axes(xlim=(xc[0], xc[-1]), ylim=(2.4, 2.9))\n",
    "ax[0].set_ylim(-0.2,0.25)\n",
    "ax[1].set_ylim(-0.2,0.4)\n",
    "ax[0].set_xlim(xc[0],xc[-1])\n",
    "ax[1].set_xlim(xc[0],xc[-1])\n",
    "line, = ax[0].plot([], [], lw=2)\n",
    "line2, = ax[1].plot([], [], lw=2)\n",
    "\n",
    "def fplot(i):\n",
    "    t = i*claw.tfinal/claw.num_output_times\n",
    "    tx = 1.*t + 20\n",
    "    xl = max(tx-60,0)\n",
    "    xr = max(tx, 60)\n",
    "\n",
    "    frame = claw.frames[i]\n",
    "    eps = frame.q[0,:]\n",
    "    rho = frame.aux[0,:]\n",
    "    K = frame.aux[1,:]\n",
    "    sigma = np.exp(K*eps)-1\n",
    "    q2 = frame.q[1,:]\n",
    "    line.set_data(xc, -q2/rho)\n",
    "    line2.set_data(xc, sigma)\n",
    "    ax[0].set_title(\"t= {:.1f}\".format(frame.t))\n",
    "    ax[0].set_ylabel('-u',fontsize=20)\n",
    "    ax[1].set_ylabel('Stress',fontsize=20)\n",
    "    #ax[0].set_xlim(xl,xr)\n",
    "    #ax[1].set_xlim(xl,xr)\n",
    "    \n",
    "    fname = 'frame'+str(i).zfill(4)+'.png'\n",
    "    fig.savefig(fname)\n",
    "    \n",
    "    return line,\n",
    "\n",
    "anim = animation.FuncAnimation(fig, fplot, frames=len(claw.frames), repeat=False)\n",
    "plt.close()\n",
    "HTML(anim.to_jshtml())"
   ]
  },
  {
   "cell_type": "code",
   "execution_count": null,
   "id": "5f72db99-8e3b-42dd-b005-65542b3c371e",
   "metadata": {},
   "outputs": [],
   "source": [
    "claw.solver.dt_old"
   ]
  },
  {
   "cell_type": "code",
   "execution_count": null,
   "id": "8589b775-bcf8-455d-a6a9-4a3f1bbeb60c",
   "metadata": {},
   "outputs": [],
   "source": []
  }
 ],
 "metadata": {
  "kernelspec": {
   "display_name": "Python 3 (ipykernel)",
   "language": "python",
   "name": "python3"
  },
  "language_info": {
   "codemirror_mode": {
    "name": "ipython",
    "version": 3
   },
   "file_extension": ".py",
   "mimetype": "text/x-python",
   "name": "python",
   "nbconvert_exporter": "python",
   "pygments_lexer": "ipython3",
   "version": "3.11.4"
  }
 },
 "nbformat": 4,
 "nbformat_minor": 5
}
